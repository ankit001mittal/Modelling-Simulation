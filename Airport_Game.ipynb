{
 "cells": [
  {
   "cell_type": "markdown",
   "metadata": {},
   "source": [
    "<h2>GAME THEORY SUMMARY</h2>\n",
    "\n",
    "* For all the math and formulas refer to the master thesis paper.\n",
    "* Define a (0,1) normalised game and prove that eventually all games leads to this generalised game. By game we mean a cooperative game here. \n",
    "* The number of players is more that 2(n > 2).\n",
    "* Every game a characteristic function. Every cooperative game can be explained with a characteristic equation.\n",
    "* Any subset from a given set of N players can form a coaliation. v(S) is the highest award S can get without correlating strategies with the other N/S players.\n",
    "* Games can be catergorised into 3 types as follows:-\n",
    "    * Constant sum v(S) + v(N\\S) = v(N)\n",
    "    * Non constant sum game is where the payoff changes with the coalition formed. When a player changes a coalition it's payoff changes.\n",
    "    * An n person cooperative game with additive characteristic function is called an inessential game. All other games are called essential.\n",
    "* Super additive property states that grand coalition is better than other smaller coalitions because the payoff in grand coalition is better.\n",
    "* All normalized games are essential.\n",
    "* A payoff vector _x_ is called imputation if it satisfies the following conditions:\n",
    "$$\n",
    "x_i \\geq v({i}) \n",
    "$$\n",
    "for all i=1,....,n\n",
    "$$\n",
    "\\sum_{i=1}^{n} x_{-n} = 1\n",
    "$$\n",
    "* The above first equation is called individual rationality\n",
    "* The second equation above is called group rationality or _Pareto rationality_.\n",
    "* In grand coalition each player gets an extra besides $x_i$. $x_i$ is the the payoff each player gets when there is no coalition of any kind.\n",
    "* There are many methods mentioned in the thesis through which we can distribute the payoff but we will ignore all that for the sake of time and only focus on shapley value.\n",
    "* Shapley value represents the payoff a given player will expect to get before play begins.\n",
    "* There are 3 axioms which a player $i$ should expect $\\phi_i(v)$ in a game with a characteristic function $v$.\n",
    "* A carrier for a game _v_ is a coalition _T_ such that, for any $S, v(S) = v((S\\cap T))$.\n",
    "* The three axioms mentioned above revolving around $\\phi [v]$, remember that $\\phi [v]$ is the expectation, is as following:-\n",
    "    * If _S_ is any carrier of $\\Gamma$, then\n",
    "    $$\\sum_{s} \\phi_i [v] = v(S)$$\n",
    "    * For any permutation $\\pi$, and $i \\in N$,\n",
    "    $$\\phi_{\\pi(i)}[\\pi v] = \\phi_i [v] $$\n",
    "    * If $u$ and $v$ are any games,\n",
    "    $$\\phi_i [u+v] = \\phi_i [u] + \\phi_i [v]$$\n",
    "    \n",
    "* These axioms defined by shapley are enough to determine and value $\\phi$ uniquely for all games.\n",
    "* The unique function $\\phi$ defined for calculating the shapley value is:-\n",
    "\n",
    "$$\n",
    "\\phi_i (v) = \\sum_{S \\subset N} \\frac{(s-1)!(n-s)!}{n!}(v(S) - v(S-\\{i\\}))\n",
    "$$\n",
    "where $s = |S|$ (the number of members in S) <br>\n",
    "S is the set of all the coalition.\n",
    "<h4>Coalition Theory</h4>\n",
    "<h5> Equal Excess Model </h5>\n",
    "\n",
    "* Bargaining strength in negotiations is based on the alternative coalitions the player can form.\n",
    "* Second principle states that the in a coalition it is highly likely that the profit will shared among the players equally rather than the total outcome of the game.\n",
    "* When some initial expectations are defined and then coalitions are made payoffs are generated. These coalitions are changed after this in a way where the initial expectations are maximized.\n",
    "* The most probable distribution of payoffs is representated by the equal excess norm.\n",
    "* A round of a game is defined as each person makes an offer and a counteroffer and eventually each offer is acccepted or rejected.\n",
    "* An agreement is reached in many less rounds if the players are less competitive however it can take many rounds to reach an agreement if the players are very competitive.\n",
    "\n",
    "<h5>Minimal Winning Coalition Strategy</h5>\n",
    "\n",
    "* How a player influence of position affects payoff distribution.\n",
    "* A decision is a selection among alternatives.\n",
    "* A player with more resources influence the payoff significantly.\n",
    "* A resource is defined as a quantity which is needed for a decision to be made.\n",
    "* A group which carries out the same coalition untill a decision is made is called a social unit.\n",
    "* A coalition which makes decision through sufficient resources is a winning coalition.\n",
    "* Decision Point is the minimum proportion of resources necessary to control the decision.\n",
    "* Blocking Coalition are those which have the power to prevent other coalition from winning.\n",
    "* A full fledged coalition situation is one which presents following characteristics:-\n",
    "    1. A decision is to be made and more than two social units are trying to maximize their payoff.\n",
    "    2. Only one alternatives will maximize the payoff.\n",
    "    3. No participants have dictorial powers.\n",
    "    4. No participants have veto power.\n",
    "* Point 1 and 2 makes sure that every player has a good intent to finish the game with the maximum payoff. Point 3 ensures that no player is starting with large resources. Point 4 ensures that no member is included in all of the winning conditions.\n",
    "* To predict coalition the model should have some intial informations which are as follows:-\n",
    "    1. An inventory of all the resources each player has before making a particular decision.\n",
    "    2. Every alternative coalition should be known, i.e, not restrict every coalition to two players only.\n",
    "* The expected value or payoff for a coalition is found by multiplying the total payoff of that coalition by the probability of the coalition’s achieving that payoff.\n",
    "    3. Each player must make a list, which ranks every other  layer in the order he or she would be inclined to join them in a coalition.\n",
    "    4. If control of the decision is possible with fewer resources than specified in the rules of the game, then that smaller amount of resources is an effective decision point.\n",
    "<h2>To be continued</h2>"
   ]
  },
  {
   "cell_type": "markdown",
   "metadata": {},
   "source": [
    "<h1>The Airport Game </h1>\n",
    "\n",
    "* There are mainly two types of expenses:-\n",
    "    1. variable operating cost due to landing planes of different types and\n",
    "    2. a fixed capital cost for things such as terminal and runway construction.\n",
    "\n",
    "* The problem is determining the fees different types of aircraft will be charged for landing.\n",
    "\n",
    "* It is easy to determine the amount of money each aircraft should be responsible for paying due to operating cost. Since  these costs are directly connected with the number of times a plane uses the airport, charges are assigned on a per-landing basis.\n",
    "\n",
    "* Fixed capital costs, however, are not so easily distributed among aircraft. Since larger planes require enlarged runways, it would not be appropriate to force smaller planes to share in the expense of maintaining this portion of the runway.\n",
    " \n",
    "* Rules of the game to allocate the fixed capital costs to aircraft.\n",
    "    1. Divide the cost of catering for the smallest type of aircraft equally among the number of landings of all aircraft.\n",
    "    2. Divide the incremental cost of catering for the second smallest type of aircraft equally among the number of landings of  all but the smallest type of aircraft.\n",
    "    3. Continue this process until the incremental cost of the largest type of aircraft is divided equally among the number of landings made by the largest aircraft type.\n",
    "\n",
    "* The landing charges found as a result of the previous rules is precisely the Shapley value where the characteristic function is a “cost” function and the cost of any subset is equal to the cost of the “largest” player in the subset."
   ]
  },
  {
   "cell_type": "code",
   "execution_count": 2,
   "metadata": {},
   "outputs": [],
   "source": [
    "import numpy as np"
   ]
  },
  {
   "cell_type": "code",
   "execution_count": 5,
   "metadata": {},
   "outputs": [
    {
     "name": "stdout",
     "output_type": "stream",
     "text": [
      "[0. 0. 0. 0. 0. 0. 0. 0. 0. 0. 0.]\n"
     ]
    }
   ],
   "source": [
    "# Declare the number of airlines you wanna work with\n",
    "\n",
    "# Sort the airlines according to the size their aircrafts are\n",
    "## Hence we would also need the type of aircrafts for \n",
    "## each airplanes\n",
    "\n",
    "\n",
    "num_planes = 11 ##Number of airlines\n",
    "# the number of landing\n",
    "n_j = np.random.randint(5, 100, size=11)\n",
    "# Runway Cost each airlines paid\n",
    "c_j = np.random.randint(10000, 50000, size=11)\n",
    "# Variable costs per landing\n",
    "l_j = np.random.randint(1000, 5000, size=11) \n",
    "# Actual lading fees charged\n",
    "a_j = np.random.randint(2000, 6000, size=11)\n",
    "# Shapley Value\n",
    "omega_j = np.zeros(num_planes)\n",
    "print(omega_j)"
   ]
  },
  {
   "cell_type": "code",
   "execution_count": null,
   "metadata": {},
   "outputs": [],
   "source": []
  }
 ],
 "metadata": {
  "kernelspec": {
   "display_name": "Python 3",
   "language": "python",
   "name": "python3"
  },
  "language_info": {
   "codemirror_mode": {
    "name": "ipython",
    "version": 3
   },
   "file_extension": ".py",
   "mimetype": "text/x-python",
   "name": "python",
   "nbconvert_exporter": "python",
   "pygments_lexer": "ipython3",
   "version": "3.6.8"
  }
 },
 "nbformat": 4,
 "nbformat_minor": 2
}
